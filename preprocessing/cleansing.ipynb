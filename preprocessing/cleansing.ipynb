{
 "cells": [
  {
   "cell_type": "code",
   "execution_count": 1,
   "metadata": {},
   "outputs": [],
   "source": [
    "import pandas as pd\n",
    "import re"
   ]
  },
  {
   "cell_type": "code",
   "execution_count": 2,
   "metadata": {},
   "outputs": [],
   "source": [
    "review = pd.read_csv('./review_data_fin.csv', index_col=0)\n",
    "review = review.dropna(subset=['content'])\n",
    "\n",
    "def preprocess_text(text):\n",
    "    text = re.sub(r'[^가-힣\\s]', '', text)  \n",
    "    text = re.sub(r'\\s+', ' ', text).strip()\n",
    "    text = re.sub(' +', ' ', text)\n",
    "    text = re.sub('[^A-Za-z0-9가-힣]', ' ', text)\n",
    "     \n",
    "    return text\n",
    "\n",
    "review['content']  = review['content'].apply(preprocess_text)\n",
    "# clean = review[['biz_id','cleaned_content']]\n"
   ]
  },
  {
   "cell_type": "code",
   "execution_count": 176,
   "metadata": {},
   "outputs": [
    {
     "name": "stdout",
     "output_type": "stream",
     "text": [
      "(481336, 6)\n"
     ]
    }
   ],
   "source": [
    "# 중복 제거\n",
    "review = review.drop_duplicates(subset=['content'], keep=False).reset_index(drop=True)\n",
    "print(review.shape)"
   ]
  }
 ],
 "metadata": {
  "kernelspec": {
   "display_name": "Python 3",
   "language": "python",
   "name": "python3"
  },
  "language_info": {
   "codemirror_mode": {
    "name": "ipython",
    "version": 3
   },
   "file_extension": ".py",
   "mimetype": "text/x-python",
   "name": "python",
   "nbconvert_exporter": "python",
   "pygments_lexer": "ipython3",
   "version": "3.11.9"
  }
 },
 "nbformat": 4,
 "nbformat_minor": 2
}
