{
 "cells": [
  {
   "cell_type": "code",
   "execution_count": null,
   "metadata": {
    "vscode": {
     "languageId": "plaintext"
    }
   },
   "outputs": [],
   "source": [
    "import pandas as pd\n",
    "import torch\n",
    "import numpy as np\n",
    "from concurrent.futures import ThreadPoolExecutor, as_completed\n",
    "from tqdm import tqdm\n",
    "import os\n",
    "from google.colab import files\n",
    "\n",
    "!pip3 install kobert-transformers\n",
    "\n",
    "# review_data_fin.csv, BERTClassifier.py, best_kobert_model_of_shop_review.pth, Classifying_Polarity.py 파일 colab의 contents 폴더에 업로드\n",
    "# 업로드한 파일의 경로 지정\n",
    "csv_file = \"/content/review_data_fin.csv\"  # 업로드된 CSV 파일 경로\n",
    "bert_classifier_file = \"/content/BERTClassifier.py\"  # 업로드된 BERTClassifier.py 경로\n",
    "model_file = \"/content/best_kobert_model_of_shop_review.pth\"  # 업로드된 모델 파일 경로\n",
    "Classifying_polarity_file = \"/content/Classifying_Polarity.py\"  # 업로드된 Classifying_Polarity.py 경로\n",
    "# CSV 파일 로드\n",
    "rev = pd.read_csv(csv_file, index_col=0)\n",
    "\n",
    "\n",
    "from classifying_Polarity import Classifying_Polarity # classifying_Polarity.py가 Colab 환경에 업로드된 후 임포트\n",
    "from BERTClassifier import BERTClassifier  # BERTClassifier.py가 Colab 환경에 업로드된 후 임포트\n",
    "from kobert_transformers import get_kobert_model, get_tokenizer\n",
    "\n",
    "bert_model = get_kobert_model()\n",
    "model = BERTClassifier(bert=bert_model)\n",
    "model.eval()  # 평가 모드로 설정\n",
    "tokenizer = get_tokenizer()\n",
    "\n",
    "# GPU 또는 CPU 장치 설정\n",
    "device = torch.device(\"cuda\" if torch.cuda.is_available() else 'cpu')\n",
    "\n",
    "# 전체 리뷰 데이터를 리스트로 변환\n",
    "new_content = rev['content'].to_list()\n",
    "\n",
    "# 결과를 저장할 리스트\n",
    "pol_list = []\n",
    "\n",
    "# 멀티스레딩을 사용하여 모델 예측 실행\n",
    "with ThreadPoolExecutor() as executor:\n",
    "    # 진행 상황 표시를 위한 tqdm 설정\n",
    "    with tqdm(total=len(new_content), desc=\"Processing Reviews\") as pbar:\n",
    "        \n",
    "        future_to_text = {executor.submit(Classifying_Polarity.analyze_content, text, model, tokenizer, device=device): text for text in new_content}\n",
    "\n",
    "        # 작업이 완료될 때마다 결과 처리\n",
    "        for future in as_completed(future_to_text):\n",
    "            text = future_to_text[future]\n",
    "            try:\n",
    "                result = future.result()\n",
    "                pol_list.append(result)  # 결과 리스트에 추가\n",
    "            except Exception as exc:\n",
    "                print(f\"Generated an exception: {exc} for text: {text}\")\n",
    "            finally:\n",
    "                pbar.update(1)  # 진행 상황 업데이트\n",
    "\n",
    "# 결과를 데이터프레임에 저장\n",
    "rev['polarity'] = pol_list\n",
    "\n",
    "# Step 5: Colab 로컬 파일로 다운로드\n",
    "rev.to_csv('/content/review_data_fin_polarity.csv', index=False)\n",
    "\n",
    "# 파일 다운로드\n",
    "files.download('/content/review_data_fin_polarity.csv')"
   ]
  }
 ],
 "metadata": {
  "language_info": {
   "name": "python"
  }
 },
 "nbformat": 4,
 "nbformat_minor": 2
}
