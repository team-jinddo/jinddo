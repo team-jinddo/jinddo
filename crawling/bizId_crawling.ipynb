{
 "cells": [
  {
   "cell_type": "code",
   "execution_count": null,
   "metadata": {},
   "outputs": [],
   "source": [
    "import pandas as pd\n",
    "import bizId_crawler\n",
    "\n",
    "data = pd.read_csv(\"C:/Users/SesacPython/Desktop/final_project/강남구_식당.csv\", index_col=0)\n",
    "res_list = data[\"사업장명\"]\n",
    "\n",
    "bizId_list, res_type_list, cidlist_list = bizId_crawler.fetch_data(res_list, start_index=0)\n",
    "\n",
    "data['bizId'] = bizId_list\n",
    "data['res_type'] = res_type_list\n",
    "data['cidList'] = cidlist_list\n",
    "data.to_csv(\"C:/Users/SesacPython/Desktop/final_project/bizId_data.csv\")"
   ]
  },
  {
   "cell_type": "code",
   "execution_count": null,
   "metadata": {},
   "outputs": [],
   "source": []
  }
 ],
 "metadata": {
  "kernelspec": {
   "display_name": "week1",
   "language": "python",
   "name": "python3"
  },
  "language_info": {
   "codemirror_mode": {
    "name": "ipython",
    "version": 3
   },
   "file_extension": ".py",
   "mimetype": "text/x-python",
   "name": "python",
   "nbconvert_exporter": "python",
   "pygments_lexer": "ipython3",
   "version": "3.11.9"
  }
 },
 "nbformat": 4,
 "nbformat_minor": 2
}
